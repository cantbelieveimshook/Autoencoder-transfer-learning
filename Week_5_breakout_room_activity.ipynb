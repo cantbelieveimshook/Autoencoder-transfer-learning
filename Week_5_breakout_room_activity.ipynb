{
  "nbformat": 4,
  "nbformat_minor": 0,
  "metadata": {
    "colab": {
      "name": "Week 5 breakout room activity",
      "provenance": [],
      "collapsed_sections": [],
      "authorship_tag": "ABX9TyNFJtvQn5FaeyKSPneoSqkl",
      "include_colab_link": true
    },
    "kernelspec": {
      "name": "python3",
      "display_name": "Python 3"
    },
    "language_info": {
      "name": "python"
    }
  },
  "cells": [
    {
      "cell_type": "markdown",
      "metadata": {
        "id": "view-in-github",
        "colab_type": "text"
      },
      "source": [
        "<a href=\"https://colab.research.google.com/github/cantbelieveimshook/My-stuff-I-guess/blob/main/Week_5_breakout_room_activity.ipynb\" target=\"_parent\"><img src=\"https://colab.research.google.com/assets/colab-badge.svg\" alt=\"Open In Colab\"/></a>"
      ]
    },
    {
      "cell_type": "code",
      "execution_count": 1,
      "metadata": {
        "colab": {
          "base_uri": "https://localhost:8080/"
        },
        "id": "YwQp02vyzBds",
        "outputId": "b398ab91-3b0a-494d-8392-e22b641aaa2a"
      },
      "outputs": [
        {
          "output_type": "stream",
          "name": "stdout",
          "text": [
            "3\n",
            "A sphere has radius 3.0 inches.\n",
            "It has volume 36.0 inches cubed.\n",
            "It has surface area 36.0 inches squared.\n"
          ]
        }
      ],
      "source": [
        "import math\n",
        "\n",
        "# Define the volume function below.\n",
        "def volume(radius):\n",
        "    volume = 4 * radius ** 3 / 3\n",
        "    print(f\"A sphere has radius {radius} inches.\")\n",
        "    print(f\"It has volume {volume} inches cubed.\")\n",
        "    \n",
        "# Define the surface area function below.\n",
        "def area(radius):\n",
        "    surface_area = 4 * radius ** 2\n",
        "    print(f\"It has surface area {surface_area} inches squared.\")\n",
        "    \n",
        "# Add print statements below. Note that the radius does not need to be rounded.\n",
        "if __name__ == \"__main__\":\n",
        "    radius = float(input())\n",
        "    volume(radius)\n",
        "    area(radius)"
      ]
    }
  ]
}